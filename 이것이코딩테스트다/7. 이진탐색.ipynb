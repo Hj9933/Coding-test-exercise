{
 "cells": [
  {
   "cell_type": "markdown",
   "metadata": {},
   "source": [
    "# 7. 이진탐색"
   ]
  },
  {
   "cell_type": "markdown",
   "metadata": {},
   "source": [
    "## 이진탐색: 반으로 쪼개면서 탐색하기\n",
    "- 배열 내부의 데이터가 정렬되어 있어야만 사용 가능\n",
    "- 위치를 나타내는 변수 3개 사용: 시작점, 끝점, 중간점\n",
    "-> 찾으려는 데이터와 중간점 위치에 있는 데이터를 반복적으로 비교해서 원하는 데이터 찾기\n",
    "- 시간복잡도 $O(logN)$"
   ]
  },
  {
   "cell_type": "markdown",
   "metadata": {},
   "source": [
    "#### 재귀함수로 구현"
   ]
  },
  {
   "cell_type": "code",
   "execution_count": 1,
   "metadata": {},
   "outputs": [],
   "source": [
    "def binary_search(array, target, start, end):\n",
    "    if start > end:\n",
    "        return None\n",
    "    mid = (start + end)//2\n",
    "    # 찾은 경우 중간값의 인덱스 반환\n",
    "    if array[mid] == target:\n",
    "        return mid\n",
    "    # 중간점 값보다 찾고자 하는 값이 작은 경우 왼쪽 확인\n",
    "    elif array[mid] > target:\n",
    "        return binary_search(array, target, start, mid - 1)\n",
    "    # 중간점 값보다 찾고자 하는 값이 큰 경우 오른쪽 확인\n",
    "    else:\n",
    "        return binary_search(array, target, mid + 1, end)"
   ]
  },
  {
   "cell_type": "code",
   "execution_count": 2,
   "metadata": {},
   "outputs": [
    {
     "name": "stdout",
     "output_type": "stream",
     "text": [
      "4\n"
     ]
    }
   ],
   "source": [
    "n, target = list(map(int, input().split()))\n",
    "array = list(map(int, input().split()))\n",
    "\n",
    "result = binary_search(array, target, 0, n-1)\n",
    "if result == None:\n",
    "    print(\"원소가 존재하지 않습니다.\")\n",
    "else:\n",
    "    print(result + 1)"
   ]
  },
  {
   "cell_type": "markdown",
   "metadata": {},
   "source": [
    "#### 반복문으로 구현"
   ]
  },
  {
   "cell_type": "code",
   "execution_count": 3,
   "metadata": {},
   "outputs": [],
   "source": [
    "def binary_search(array, target, start, end):\n",
    "    while start <= end:\n",
    "        mid = (start+end)//2\n",
    "        # 찾은 경우 중간점 인덱스 반환\n",
    "        if array[mid] == target:\n",
    "            return mid\n",
    "        # 중간점의 값보다 찾고자 하는 값이 작은 경우 왼쪽 확인\n",
    "        elif array[mid] > target:\n",
    "            end = mid - 1\n",
    "        # 중간점의 값보다 찾고자 하는 값이 큰 경우 오른쪽 확인\n",
    "        else:\n",
    "            start = mid + 1\n",
    "    return None"
   ]
  },
  {
   "cell_type": "code",
   "execution_count": 4,
   "metadata": {},
   "outputs": [
    {
     "name": "stdout",
     "output_type": "stream",
     "text": [
      "4\n"
     ]
    }
   ],
   "source": [
    "n, target = list(map(int, input().split()))\n",
    "array = list(map(int, input().split()))\n",
    "\n",
    "result = binary_search(array, target, 0, n-1)\n",
    "if result == None:\n",
    "    print(\"원소가 존재하지 않습니다.\")\n",
    "else:\n",
    "    print(result + 1)"
   ]
  },
  {
   "cell_type": "markdown",
   "metadata": {},
   "source": [
    "## 트리 자료구조"
   ]
  },
  {
   "cell_type": "markdown",
   "metadata": {},
   "source": [
    "![트리자료구조](./image/트리자료구조.png)"
   ]
  },
  {
   "cell_type": "markdown",
   "metadata": {},
   "source": [
    "### 이진 탐색 트리\n",
    "1. 부모 노드보다 왼쪽 자식 노드가 작다.\n",
    "2. 부모 노드보다 오른쪽 자식 노드가 크다."
   ]
  },
  {
   "cell_type": "markdown",
   "metadata": {},
   "source": [
    "# 실전문제"
   ]
  },
  {
   "cell_type": "markdown",
   "metadata": {},
   "source": [
    "## 1. 부품 찾기\n",
    "### 손님이 요청한 부품 번호의 순서대로 부품을 확인해 부품이 있으면 yes, 없으면 no를 출력. 구분은 공백으로"
   ]
  },
  {
   "cell_type": "code",
   "execution_count": 16,
   "metadata": {},
   "outputs": [],
   "source": [
    "n = int(input())\n",
    "lst = list(map(int, input().split()))\n",
    "m = int(input())\n",
    "lst_req = list(map(int, input().split()))"
   ]
  },
  {
   "cell_type": "code",
   "execution_count": 18,
   "metadata": {},
   "outputs": [
    {
     "name": "stdout",
     "output_type": "stream",
     "text": [
      "no yes yes "
     ]
    }
   ],
   "source": [
    "def binary_search(array, target, start, end):\n",
    "    if start > end:\n",
    "        return None\n",
    "    mid = (start+end)//2\n",
    "    if array[mid] == target:\n",
    "        return mid\n",
    "    elif array[mid] > target:\n",
    "        return binary_search(array, target, start, mid - 1)\n",
    "    else:\n",
    "        return binary_search(array, target, mid + 1, end)\n",
    "\n",
    "# 리스트 먼저 정렬\n",
    "lst.sort()\n",
    "\n",
    "for i in lst_req:\n",
    "    target = i\n",
    "    if binary_search(lst, i, 0, n-1) != None:\n",
    "        print(\"yes\", end = ' ')\n",
    "    else:\n",
    "        print(\"no\", end = ' ')"
   ]
  },
  {
   "cell_type": "code",
   "execution_count": null,
   "metadata": {},
   "outputs": [],
   "source": [
    "# 계수정렬 이용\n",
    "## 빈 어레이 만들기\n",
    "n = int(input())\n",
    "array = [0]*1000001\n",
    "\n",
    "# 가게에 있는 전체 부품 번호를 입력받아서 기록\n",
    "for i in input().split():\n",
    "    array[int(i)] = 1\n",
    "\n",
    "m = int(input())\n",
    "x = list(map(int, input().split()))\n",
    "\n",
    "# 손님이 확인 요청한 부품 번호를 하나씩 확인\n",
    "for i in x:\n",
    "    # 해당 부품이 존재하는지 확인\n",
    "    if array[i] == 1:\n",
    "        print('yes', end = ' ')\n",
    "    else:\n",
    "        print('no', end = ' ')\n"
   ]
  },
  {
   "cell_type": "code",
   "execution_count": null,
   "metadata": {},
   "outputs": [],
   "source": [
    "# 집합 자료형 이용; 단순히 특정 데이터가 존재하는지 검사할 때 매우 효과적\n",
    "n = int(input())\n",
    "## 가게에 있는 전체 부품 번호를 입력받아서 집합 자료형에 기록\n",
    "array = set(map(int, input().split()))\n",
    "\n",
    "m = int(input())\n",
    "x = list(map(int, input().split()))\n",
    "\n",
    "# 손님이 확인 요청한 부품 번호를 하나씩 확인\n",
    "for i in x:\n",
    "    # 해당 부품이 존재하는지 확인\n",
    "    if i in array:\n",
    "        print('yes', end = ' ')\n",
    "    else:\n",
    "        print('no', end = ' ')\n"
   ]
  },
  {
   "cell_type": "markdown",
   "metadata": {},
   "source": [
    "## 2. 떡볶이 떡 만들기"
   ]
  },
  {
   "cell_type": "code",
   "execution_count": 23,
   "metadata": {},
   "outputs": [],
   "source": [
    "n, m  = map(int, input().split())\n",
    "lst = list(map(int, input().split()))"
   ]
  },
  {
   "cell_type": "code",
   "execution_count": 30,
   "metadata": {},
   "outputs": [
    {
     "name": "stdout",
     "output_type": "stream",
     "text": [
      "15\n"
     ]
    }
   ],
   "source": [
    "# 내 풀이\n",
    "h = max(lst) # 절단 길이가 떡들의 최대 길이보다 높을 수는 없음\n",
    "sum = 0\n",
    "while sum < m: # sum이 요청길이 m 보다 크거나 같아질 때까지 계속 반복\n",
    "    h -= 1 # 최대 절단길이에서 1씩 줄여나가기\n",
    "    sum = 0 # sum 초기화\n",
    "    for i in lst:\n",
    "        if i - h > 0: # 떡 길이에서 절단길이를 뺀 값이 0보다 크면 sum에 더하기; 0보다 작으면 절단되지 않음\n",
    "            sum += i - h\n",
    "print(h)\n",
    "# 아마 시간초과될 것\n",
    "    "
   ]
  },
  {
   "cell_type": "markdown",
   "metadata": {},
   "source": [
    "전형적인 이진탐색 문제이자, 파라메트릭 서치 문제.\\\n",
    "파라메트릭 서치: 최적화 문제를 결정 문제로 바꾸어 해결하는 기법 (결정문제: 예 혹은 아니오로 답하는 문제) / 원하는 조건을 만족하는 가장 알맞은 값을 찾는 문제에 주로 사용\\\n",
    "! 풀이 POINT !\\\n",
    "절단기의 높이 H는 0부터 가장 긴 떡의 길이 안에 있어야 하므로 시작점은 0, 끝점은 가장 긴 떡의 길이로 설정하여 이진탐색"
   ]
  },
  {
   "cell_type": "code",
   "execution_count": 33,
   "metadata": {},
   "outputs": [
    {
     "name": "stdout",
     "output_type": "stream",
     "text": [
      "15\n"
     ]
    }
   ],
   "source": [
    "# 이진 탐색 풀이\n",
    "\n",
    "start = 0\n",
    "end = max(lst)\n",
    "\n",
    "result = 0\n",
    "while start <= end:\n",
    "    total = 0\n",
    "    mid = (start+end)//2\n",
    "    for x in lst:\n",
    "        # 잘랐을 때 떡의 양 계산\n",
    "        if x > mid:\n",
    "            total += x - mid\n",
    "    if total < m: # 떡의 양이 부족한 경우 더 많이 자르기 (왼쪽 탐색)\n",
    "        end = mid - 1\n",
    "    else: # 떡의 양이 충분한 경우 더 조금 자르기 (오른쪽 탐색)\n",
    "        result = mid # 최대한 덜 잘랐을 때가 정답이므로, 여기에서 result 기록\n",
    "        start = mid + 1\n",
    "print(result)"
   ]
  },
  {
   "cell_type": "markdown",
   "metadata": {},
   "source": [
    "## 백준 이분탐색"
   ]
  },
  {
   "cell_type": "markdown",
   "metadata": {},
   "source": [
    "### 1. 수찾기"
   ]
  },
  {
   "cell_type": "code",
   "execution_count": 34,
   "metadata": {},
   "outputs": [],
   "source": [
    "n = int(input())\n",
    "A = list(map(int, input().split()))\n",
    "m = int(input())\n",
    "lst = list(map(int, input().split()))"
   ]
  },
  {
   "cell_type": "code",
   "execution_count": 37,
   "metadata": {},
   "outputs": [
    {
     "name": "stdout",
     "output_type": "stream",
     "text": [
      "1\n",
      "1\n",
      "0\n",
      "0\n",
      "1\n"
     ]
    }
   ],
   "source": [
    "def binary_search(array, target, start, end):\n",
    "    if start > end:\n",
    "        return None\n",
    "    mid = (start+end)//2\n",
    "    if array[mid] == target:\n",
    "        return mid\n",
    "    elif array[mid] > target:\n",
    "        return binary_search(array, target, start, mid - 1)\n",
    "    else:\n",
    "        return binary_search(array, target, mid + 1, end)\n",
    "\n",
    "A.sort()\n",
    "for i in lst:\n",
    "    if binary_search(A, i, 0, n-1) != None:\n",
    "        print(1)\n",
    "    else:\n",
    "        print(0)"
   ]
  },
  {
   "cell_type": "markdown",
   "metadata": {},
   "source": [
    "### 2. 숫자카드"
   ]
  },
  {
   "cell_type": "code",
   "execution_count": 38,
   "metadata": {},
   "outputs": [],
   "source": [
    "n = int(input())\n",
    "lst = list(map(int, input().split()))\n",
    "m = int(input())\n",
    "lst_req = list(map(int, input().split()))"
   ]
  },
  {
   "cell_type": "code",
   "execution_count": 83,
   "metadata": {},
   "outputs": [
    {
     "name": "stdout",
     "output_type": "stream",
     "text": [
      "3 0 0 1 2 0 0 2 "
     ]
    }
   ],
   "source": [
    "# 1. 처음에는 계수정렬로 풀려 했으나 숫자카드에 -도 있고 빈 배열의 크기가 이천만이어서 느림\n",
    "# 2. 이진탐색으로 풀기 \n",
    "## 이진탐색으로 찾으려는 수가 있는지 보고, 있으면 그 수가 몇개인지 카운트 -> 정렬, 이진탐색, 카운트 => 시간초과\n",
    "## 이진탐색 후, 찾으려는 수가 있다면 인덱스를 앞 뒤로 움직이면서 그 수가 몇개인지 계산 -> 시간초과\n",
    "\n",
    "# lst.sort()\n",
    "\n",
    "# def binary_search(array, target, start, end):\n",
    "#     if start > end:\n",
    "#         return None\n",
    "#     mid = (start + end)//2\n",
    "#     if array[mid] == target:\n",
    "#         i, j = 1, 1\n",
    "#         while mid - i >= start: # mid를 기준으로 왼쪽으로 가면서 찾으려는 값과 같은 값 찾기\n",
    "#             if lst[mid - i] != lst[mid]:\n",
    "#                 break\n",
    "#             else:\n",
    "#                 i += 1\n",
    "#         while mid + j <= end: # mid를 기준으로 오른쪽으로 가면서 찾으려는 값과 같은 값 찾기\n",
    "#             if lst[mid + j] != lst[mid]:\n",
    "#                 break\n",
    "#             else:\n",
    "#                 j += 1\n",
    "#         return i + j - 1 \n",
    "#     elif array[mid] > target:\n",
    "#         return binary_search(array, target, start, mid - 1)\n",
    "#     else:\n",
    "#         return binary_search(array, target, mid + 1, end)\n",
    "    \n",
    "# for m in lst_req:\n",
    "#     if binary_search(lst, m, 0, n - 1) != None:\n",
    "#         print(binary_search(lst, m, 0, n - 1), end=' ')\n",
    "#     else:\n",
    "#         print(0, end=' ')\n",
    "\n",
    "# 3. (계수정렬과 비슷) dictionary 이용해서 리스트 요소와 요소 개수를 연결시켜놓은 다음, 찾으려는 값이 dict에 있으면 개수 반환 없으면 0 반환\n",
    "lst.sort()\n",
    "cnt = {}\n",
    "for i in lst:\n",
    "    if i in cnt:\n",
    "        cnt[i] += 1\n",
    "    else:\n",
    "        cnt[i] = 1\n",
    "\n",
    "for i in lst_req:\n",
    "    if i in cnt:\n",
    "        print(cnt[i], end=' ')\n",
    "    else:\n",
    "        print(0, end=' ')"
   ]
  },
  {
   "cell_type": "markdown",
   "metadata": {},
   "source": [
    "### 3. 랜선 자르기"
   ]
  },
  {
   "cell_type": "code",
   "execution_count": 3,
   "metadata": {},
   "outputs": [],
   "source": [
    "k, n = map(int, input().split())\n",
    "lst = list(int(input()) for _ in range(k))"
   ]
  },
  {
   "cell_type": "code",
   "execution_count": 6,
   "metadata": {},
   "outputs": [
    {
     "name": "stdout",
     "output_type": "stream",
     "text": [
      "200\n"
     ]
    }
   ],
   "source": [
    "# 랜선이 가질 수 있는 최대길이를 찾아낸 후 0부터 최대값 사이에서 이분탐색\n",
    "# 만들 수 있는 랜선 개수를 타깃으로\n",
    "start = 1\n",
    "end = sum(lst)//n # 가지고 있는 랜선길이의 합을 필요한 랜선 개수로 나눈 몫이 만들 수 있는 최대값\n",
    "\n",
    "while start <= end:\n",
    "    mid = (start + end)//2 \n",
    "    count = 0\n",
    "    for i in lst: # 만들 수 있는 랜선개수 카운트\n",
    "        count += i//mid\n",
    "\n",
    "    if count < n: # 카운트가 타깃 n보다 작으면 왼쪽 탐색(길이 줄이기)\n",
    "        end = mid - 1\n",
    "    else: # 카운트가 타깃 n보다 같거나 크면 오른쪽 탐색(조건 만족하기 시작하면 루프문이 돌수록 최대값을 찾아나감)\n",
    "        start = mid + 1\n",
    "\n",
    "print(end) "
   ]
  },
  {
   "cell_type": "markdown",
   "metadata": {},
   "source": [
    "### 4. 나무 자르기"
   ]
  },
  {
   "cell_type": "code",
   "execution_count": 9,
   "metadata": {},
   "outputs": [],
   "source": [
    "# import sys\n",
    "# input = sys.stdin.readline\n",
    "\n",
    "n, m = map(int, input().split())\n",
    "height = list(map(int, input().split()))"
   ]
  },
  {
   "cell_type": "code",
   "execution_count": 10,
   "metadata": {},
   "outputs": [
    {
     "name": "stdout",
     "output_type": "stream",
     "text": [
      "36\n"
     ]
    }
   ],
   "source": [
    "# 떡볶이 떡이랑 같음\n",
    "# 0부터 나무 중 최대길이 내에서 이분탐색\n",
    "\n",
    "start = 1\n",
    "end = max(height)\n",
    "\n",
    "while start <= end:\n",
    "    mid = (start+end)//2\n",
    "    total = 0\n",
    "    for i in height:\n",
    "        if i > mid: # if문 안쓰고 max(0,i-mid) 하면 시간초과\n",
    "            total += i - mid\n",
    "    \n",
    "    if total < m: # 절단된 나무 높이가 m보다 작으면 높이를 줄여야함(왼쪽탐색)\n",
    "        end = mid - 1\n",
    "    else: # 절단된 나무 높이가 m보다 크거나 같으면 높이를 키워가면서 최댓값 찾기\n",
    "        start = mid + 1\n",
    "\n",
    "print(end)"
   ]
  }
 ],
 "metadata": {
  "kernelspec": {
   "display_name": "torch_book",
   "language": "python",
   "name": "python3"
  },
  "language_info": {
   "codemirror_mode": {
    "name": "ipython",
    "version": 3
   },
   "file_extension": ".py",
   "mimetype": "text/x-python",
   "name": "python",
   "nbconvert_exporter": "python",
   "pygments_lexer": "ipython3",
   "version": "3.8.15"
  }
 },
 "nbformat": 4,
 "nbformat_minor": 2
}
