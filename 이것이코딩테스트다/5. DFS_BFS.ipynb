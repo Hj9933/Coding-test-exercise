{
 "cells": [
  {
   "cell_type": "markdown",
   "metadata": {},
   "source": [
    "# 5. DFS/BFS"
   ]
  },
  {
   "cell_type": "markdown",
   "metadata": {},
   "source": [
    "![5-DFS](./image/5-DFS.png)"
   ]
  },
  {
   "cell_type": "markdown",
   "metadata": {},
   "source": [
    "## DFS (깊이우선탐색 알고리즘)\n",
    "- 스택 자료구조 이용\n",
    "1. 탐색 시작 노드를 스택에 삽입하고 방문 처리를 한다.\n",
    "2. 스택의 최상단 노드에 방문하지 않은 인접 노드가 있으면 그 인접 노드를 스택에 넣고 방문 처리를 한다. 방문하지 않은 인접 노드가 없으면 스택에서 최상단 노드를 꺼낸다.\n",
    "3. 2번의 과정을 더 이상 수행할 수 없을 때까지 반복한다."
   ]
  },
  {
   "cell_type": "code",
   "execution_count": 1,
   "metadata": {},
   "outputs": [
    {
     "name": "stdout",
     "output_type": "stream",
     "text": [
      "1 2 7 6 8 3 4 5 "
     ]
    }
   ],
   "source": [
    "# DFS 메서드 정의\n",
    "def dfs(graph, v, visited):\n",
    "    # 현재 노드를 방문 처리\n",
    "    visited[v] = True\n",
    "    print(v, end=' ')\n",
    "    # 현재 노드와 연결된 다른 노드를 재귀적으로 방문\n",
    "    for i in graph[v]:\n",
    "        if not visited[i]:\n",
    "            dfs(graph, i, visited)\n",
    "\n",
    "# 각 노드가 연결된 정보를 리스트 자료형으로 표현(2차원 리스트)\n",
    "graph = [\n",
    "    [],\n",
    "    [2,3,8],\n",
    "    [1,7],\n",
    "    [1,4,5],\n",
    "    [3,5],\n",
    "    [3,4],\n",
    "    [7],\n",
    "    [2,6,8],\n",
    "    [1,7]\n",
    "]\n",
    "\n",
    "# 각 노드가 방문된 정보를 리스트 자료형으로 표현 (1차원 리스트)\n",
    "visited = [False]*9\n",
    "\n",
    "# 정의된 DFS 함수 호출\n",
    "dfs(graph, 1, visited)"
   ]
  },
  {
   "cell_type": "markdown",
   "metadata": {},
   "source": [
    "## BFS (너비우선탐색 알고리즘)\n",
    "- 큐 자료구조 이용\n",
    "1. 탐색 시작 노드를 큐에 삽입하고 방문 처리를 한다\n",
    "2. 큐에서 노드를 꺼내 해당 노드의 인접 노드 중에서 방문하지 않은 노드를 모두 큐에 삽입하고 방문 처리를 한다.\n",
    "3. 2번의 과정을 더 이상 수행할 수 없을 때까지 반복한다."
   ]
  },
  {
   "cell_type": "code",
   "execution_count": 3,
   "metadata": {},
   "outputs": [
    {
     "name": "stdout",
     "output_type": "stream",
     "text": [
      "1 2 3 8 7 4 5 6 "
     ]
    }
   ],
   "source": [
    "from collections import deque\n",
    "\n",
    "# BFS 메서드 정의\n",
    "def bfs(graph, start, visited):\n",
    "    # 큐 구현을 위해 deque 라이브러리 사용\n",
    "    queue = deque([start])\n",
    "    # 현재 노드를 방문 처리\n",
    "    visited[start] = True\n",
    "    # 큐가 빌 때까지 반복\n",
    "    while queue:\n",
    "        # 큐에서 하나의 원소를 뽑아 출력\n",
    "        v = queue.popleft()\n",
    "        print(v, end = ' ')\n",
    "        # 해당 원소와 연결된, 아직 방문하지 않은 원소들을 큐에 삽입\n",
    "        for i in graph[v]:\n",
    "            if not visited[i]:\n",
    "                queue.append(i)\n",
    "                visited[i] = True\n",
    "                \n",
    "# 각 노드가 연결된 정보를 리스트 자료형으로 표현(2차원 리스트)\n",
    "graph = [\n",
    "    [],\n",
    "    [2,3,8],\n",
    "    [1,7],\n",
    "    [1,4,5],\n",
    "    [3,5],\n",
    "    [3,4],\n",
    "    [7],\n",
    "    [2,6,8],\n",
    "    [1,7]\n",
    "]\n",
    "\n",
    "# 각 노드가 방문된 정보를 리스트 자료형으로 표현 (1차원 리스트)\n",
    "visited = [False]*9\n",
    "# 정의된 BFS 함수 호출\n",
    "bfs(graph, 1, visited)"
   ]
  },
  {
   "cell_type": "markdown",
   "metadata": {},
   "source": [
    "![5-DFS_BFS](./image/5-DFS_BFS.png)"
   ]
  },
  {
   "cell_type": "markdown",
   "metadata": {},
   "source": [
    "# 실전문제"
   ]
  },
  {
   "cell_type": "markdown",
   "metadata": {},
   "source": [
    "## 1. 음료수 얼려 먹기"
   ]
  },
  {
   "cell_type": "markdown",
   "metadata": {},
   "source": [
    "![5-음료수얼려먹기](./image/5-음료수얼려먹기.png)"
   ]
  },
  {
   "cell_type": "code",
   "execution_count": 5,
   "metadata": {},
   "outputs": [],
   "source": [
    "n, m = map(int, input().split())\n",
    "graph = list(list(input()) for _ in range(n))"
   ]
  },
  {
   "cell_type": "code",
   "execution_count": 6,
   "metadata": {},
   "outputs": [
    {
     "data": {
      "text/plain": [
       "[['0', '0', '1', '1', '0'],\n",
       " ['0', '0', '0', '1', '1'],\n",
       " ['1', '1', '1', '1', '1'],\n",
       " ['0', '0', '0', '0', '0']]"
      ]
     },
     "execution_count": 6,
     "metadata": {},
     "output_type": "execute_result"
    }
   ],
   "source": [
    "graph"
   ]
  },
  {
   "cell_type": "markdown",
   "metadata": {},
   "source": [
    "- DFS 로 해결가능\n",
    "1. 특정한 지점의 주변 상, 하, 좌, 우를 살펴본 뒤에 주변 지점 중에서 값이 '0'이면서 아직 방문하지 않은 지점이 있다면 해당 지점을 방문'\n",
    "2. 방문한 지점에서 다시 상, 하, 좌, 우를 살펴보면서 방문을 다시 진행하면, 연결된 모든 지점을 방문할 수 있다.\n",
    "3. 1~2번 과정을 모든 노드에 반복하며 방문하지 않은 지점의 수를 센다."
   ]
  },
  {
   "cell_type": "code",
   "execution_count": 10,
   "metadata": {},
   "outputs": [
    {
     "name": "stdout",
     "output_type": "stream",
     "text": [
      "3\n"
     ]
    }
   ],
   "source": [
    "# DFS 로 해결가능\n",
    "n, m = map(int, input().split())\n",
    "\n",
    "# 2차원 리스트의 맵 정보 입력받기\n",
    "graph = []\n",
    "for i in range(n):\n",
    "    graph.append(list(map(int, input())))\n",
    "\n",
    "# DFS로 특정한 노드를 방문한 뒤에 연결된 모든 노드들도 방문\n",
    "def dfs(x,y):\n",
    "    # 주어진 범위를 벗어나는 경우 즉시 종료\n",
    "    if x <= -1 or x >= n or y <= -1 or y >= m:\n",
    "        return False\n",
    "    # 현재 노드를 아직 방문하지 않았다면\n",
    "    if graph[x][y] == 0:\n",
    "        # 해당 노드 방문 처리\n",
    "        graph[x][y] = 1\n",
    "        # 상, 하, 좌, 우의 위치도 모두 재귀적으로 호출\n",
    "        dfs(x-1, y)\n",
    "        dfs(x, y-1)\n",
    "        dfs(x+1, y)\n",
    "        dfs(x, y+1)\n",
    "        return True\n",
    "    return False\n",
    "\n",
    "# 모든 노드(위치)에 대하여 음료수 채우기\n",
    "result = 0\n",
    "for i in range(n):\n",
    "    for j in range(m):\n",
    "        if dfs(i, j) == True:\n",
    "            result += 1\n",
    "\n",
    "print(result)"
   ]
  },
  {
   "cell_type": "markdown",
   "metadata": {},
   "source": [
    "## 2. 미로탈출\n",
    "![5-미로탈출](./image/5-미로탈출.png)"
   ]
  },
  {
   "cell_type": "markdown",
   "metadata": {},
   "source": [
    "- BFS 이용 시 매우 효과적 -> bfs는 시작 지점에서 가까운 노드부터 차례대로 그래프의 모든 노드를 탐색하기 때문\n",
    "- (1,1) 지점에서부터 BFS를 수행하여 모든 노드의 값을 거리 정보로 넣으면 됨\n",
    "- 특정한 노드를 방문하면 그 이전 노드의 거리에 1을 더한 값을 리스트에 넣는다."
   ]
  },
  {
   "cell_type": "code",
   "execution_count": 11,
   "metadata": {},
   "outputs": [
    {
     "name": "stdout",
     "output_type": "stream",
     "text": [
      "10\n"
     ]
    }
   ],
   "source": [
    "from collections import deque\n",
    "\n",
    "n, m = map(int, input().split())\n",
    "# 2차원 리스트 맵 정보 입력 받기\n",
    "graph = []\n",
    "for i in range(n):\n",
    "    graph.append(list(map(int, input())))\n",
    "\n",
    "# 이동한 네 방향 정의 (상,하,좌,우)\n",
    "dx = [-1,1,0,0]\n",
    "dy = [0,0,-1,1]\n",
    "\n",
    "# BFS로 소스코드 구현\n",
    "def bfs(x,y):\n",
    "    # 큐 구현 위해 deque 라이브러리 사용\n",
    "    queue = deque()\n",
    "    queue.append((x,y))\n",
    "    # 큐가 빌 때까지 반복\n",
    "    while queue:\n",
    "        x, y = queue.popleft()\n",
    "        # 현재 위치에서 네 방향으로의 위치 확인\n",
    "        for i in range(4):\n",
    "            nx = x + dx[i]\n",
    "            ny = y + dy[i]\n",
    "            # 미로 찾기 공간을 벗어난 경우 무시\n",
    "            if nx < 0 or ny < 0 or nx >= n or ny >= m:\n",
    "                continue\n",
    "            # 벽이 있는 경우 무시\n",
    "            if graph[x][y] == 0:\n",
    "                continue\n",
    "            # 해당 노드를 처음 방문하는 경우에만 최단 거리 기록\n",
    "            if graph[nx][ny] == 1:\n",
    "                graph[nx][ny] = graph[x][y] + 1\n",
    "                queue.append((nx,ny))    \n",
    "    # 가장 오른쪽 아래까지의 최단 거리 반환\n",
    "    return graph[n-1][m-1]\n",
    "\n",
    "# BFS를 수행한 결과 출력\n",
    "print(bfs(0,0))\n"
   ]
  },
  {
   "cell_type": "markdown",
   "metadata": {},
   "source": [
    "# 백준"
   ]
  },
  {
   "cell_type": "markdown",
   "metadata": {},
   "source": [
    "## 바이러스\n",
    "- 문제\\\n",
    "신종 바이러스인 웜 바이러스는 네트워크를 통해 전파된다. 한 컴퓨터가 웜 바이러스에 걸리면 그 컴퓨터와 네트워크 상에서 연결되어 있는 모든 컴퓨터는 웜 바이러스에 걸리게 된다.\\\n",
    "예를 들어 7대의 컴퓨터가 <그림 1>과 같이 네트워크 상에서 연결되어 있다고 하자. 1번 컴퓨터가 웜 바이러스에 걸리면 웜 바이러스는 2번과 5번 컴퓨터를 거쳐 3번과 6번 컴퓨터까지 전파되어 2, 3, 5, 6 네 대의 컴퓨터는 웜 바이러스에 걸리게 된다. 하지만 4번과 7번 컴퓨터는 1번 컴퓨터와 네트워크상에서 연결되어 있지 않기 때문에 영향을 받지 않는다.\\\n",
    "어느 날 1번 컴퓨터가 웜 바이러스에 걸렸다. 컴퓨터의 수와 네트워크 상에서 서로 연결되어 있는 정보가 주어질 때, 1번 컴퓨터를 통해 웜 바이러스에 걸리게 되는 컴퓨터의 수를 출력하는 프로그램을 작성하시오.\n",
    "\n",
    "- 입력\\\n",
    "첫째 줄에는 컴퓨터의 수가 주어진다. 컴퓨터의 수는 100 이하인 양의 정수이고 각 컴퓨터에는 1번 부터 차례대로 번호가 매겨진다. 둘째 줄에는 네트워크 상에서 직접 연결되어 있는 컴퓨터 쌍의 수가 주어진다. 이어서 그 수만큼 한 줄에 한 쌍씩 네트워크 상에서 직접 연결되어 있는 컴퓨터의 번호 쌍이 주어진다.\n",
    "\n",
    "- 출력\\\n",
    "1번 컴퓨터가 웜 바이러스에 걸렸을 때, 1번 컴퓨터를 통해 웜 바이러스에 걸리게 되는 컴퓨터의 수를 첫째 줄에 출력한다."
   ]
  },
  {
   "cell_type": "code",
   "execution_count": 7,
   "metadata": {},
   "outputs": [],
   "source": [
    "# 컴퓨터의 수\n",
    "v = int(input())\n",
    "# 네트워크 쌍 개수\n",
    "e = int(input())\n",
    "# 반드시 graph[a]와 graph[b]에 동시에 연결 정보를 저장해야 한다.\n",
    "graph = [[] for _ in range(v+1)]\n",
    "for _ in range(e):\n",
    "    a, b = map(int, input().split())\n",
    "    # 연결된 컴퓨터의 정보가 언제가 1부터 등장한다는 보장 x\n",
    "    graph[a].append(b)\n",
    "    graph[b].append(a)"
   ]
  },
  {
   "cell_type": "code",
   "execution_count": 10,
   "metadata": {},
   "outputs": [
    {
     "name": "stdout",
     "output_type": "stream",
     "text": [
      "4\n"
     ]
    }
   ],
   "source": [
    "def dfs(x, visited):\n",
    "    global count\n",
    "    visited[x] = True\n",
    "    count += 1\n",
    "    for node in graph[x]:\n",
    "        if not visited[node]:\n",
    "            dfs(node, visited)\n",
    "        else:\n",
    "            continue\n",
    "count = 0\n",
    "visited = [False] * (v+1)\n",
    "dfs(1, visited)\n",
    "print(count - 1)\n"
   ]
  },
  {
   "cell_type": "markdown",
   "metadata": {},
   "source": [
    "## 단지번호붙이기\n",
    "- 문제\\\n",
    "<그림 1>과 같이 정사각형 모양의 지도가 있다. 1은 집이 있는 곳을, 0은 집이 없는 곳을 나타낸다. 철수는 이 지도를 가지고 연결된 집의 모임인 단지를 정의하고, 단지에 번호를 붙이려 한다. 여기서 연결되었다는 것은 어떤 집이 좌우, 혹은 아래위로 다른 집이 있는 경우를 말한다. 대각선상에 집이 있는 경우는 연결된 것이 아니다. <그림 2>는 <그림 1>을 단지별로 번호를 붙인 것이다. 지도를 입력하여 단지수를 출력하고, 각 단지에 속하는 집의 수를 오름차순으로 정렬하여 출력하는 프로그램을 작성하시오.\n",
    "\n",
    "- 입력\\\n",
    "첫 번째 줄에는 지도의 크기 N(정사각형이므로 가로와 세로의 크기는 같으며 5≤N≤25)이 입력되고, 그 다음 N줄에는 각각 N개의 자료(0혹은 1)가 입력된다.\n",
    "\n",
    "- 출력\\\n",
    "첫 번째 줄에는 총 단지수를 출력하시오. 그리고 각 단지내 집의 수를 오름차순으로 정렬하여 한 줄에 하나씩 출력하시오."
   ]
  },
  {
   "cell_type": "code",
   "execution_count": 20,
   "metadata": {},
   "outputs": [],
   "source": [
    "n = int(input())\n",
    "graph = [list(map(int, input())) for _ in range(n)]\n",
    "\n",
    "\n",
    "# DFS 정의\n",
    "def dfs(x,y):\n",
    "    global count\n",
    "    # 위치가 경로 밖으로 벗어나면 즉시 종료\n",
    "    if x <= -1 or x >= n or y <= -1 or y >= n:\n",
    "        return False\n",
    "    # 해당 위치를 아직 방문하지 않았다면\n",
    "    if graph[x][y] == 1:\n",
    "        # 방문처리하고 해당 위치의 상,하,좌,우 위치도 재귀적 함수 호출\n",
    "        graph[x][y] = 0\n",
    "        count += 1 # 집 개수 + 1\n",
    "        dfs(x-1, y) # 상\n",
    "        dfs(x, y-1) # 좌\n",
    "        dfs(x+1, y) # 하\n",
    "        dfs(x, y+1) # 우\n",
    "        return True\n",
    "    return False\n"
   ]
  },
  {
   "cell_type": "code",
   "execution_count": 21,
   "metadata": {},
   "outputs": [
    {
     "name": "stdout",
     "output_type": "stream",
     "text": [
      "3\n",
      "[7, 8, 9]\n"
     ]
    }
   ],
   "source": [
    "result = 0\n",
    "count_1 = []\n",
    "for i in range(n):\n",
    "    for j in range(n):\n",
    "        count = 0\n",
    "        if dfs(i, j) == True:\n",
    "            result += 1\n",
    "            count_1.append(count)\n",
    "\n",
    "print(result)\n",
    "for i in sorted(count_1):\n",
    "    print(i)"
   ]
  },
  {
   "cell_type": "markdown",
   "metadata": {},
   "source": [
    "## DFS와 BFS\n",
    "- 문제\\\n",
    "그래프를 DFS로 탐색한 결과와 BFS로 탐색한 결과를 출력하는 프로그램을 작성하시오. 단, 방문할 수 있는 정점이 여러 개인 경우에는 정점 번호가 작은 것을 먼저 방문하고, 더 이상 방문할 수 있는 점이 없는 경우 종료한다. 정점 번호는 1번부터 N번까지이다.\n",
    "\n",
    "- 입력\\\n",
    "첫째 줄에 정점의 개수 N(1 ≤ N ≤ 1,000), 간선의 개수 M(1 ≤ M ≤ 10,000), 탐색을 시작할 정점의 번호 V가 주어진다. 다음 M개의 줄에는 간선이 연결하는 두 정점의 번호가 주어진다. 어떤 두 정점 사이에 여러 개의 간선이 있을 수 있다. 입력으로 주어지는 간선은 양방향이다.\n",
    "\n",
    "- 출력\\\n",
    "첫째 줄에 DFS를 수행한 결과를, 그 다음 줄에는 BFS를 수행한 결과를 출력한다. V부터 방문된 점을 순서대로 출력하면 된다."
   ]
  },
  {
   "cell_type": "code",
   "execution_count": 39,
   "metadata": {},
   "outputs": [
    {
     "name": "stdout",
     "output_type": "stream",
     "text": [
      "1000 999\n",
      "1000 999\n"
     ]
    }
   ],
   "source": [
    "n, m, v = map(int, input().split())\n",
    "graph = list([] for _ in range(n+1))\n",
    "for _ in range(m):\n",
    "    a, b = map(int, input().split())\n",
    "    graph[a].append(b)\n",
    "    graph[b].append(a)\n",
    "\n",
    "# dfs 정의\n",
    "def dfs(graph, v, visited):\n",
    "    global lst\n",
    "    visited[v] = True #  현재노드 방문처리\n",
    "    lst.append(v)\n",
    "    # 현재 노드와 연결된 다른 노드들 재귀적으로 방문\n",
    "    for i in sorted(graph[v]):\n",
    "        if not visited[i]:\n",
    "            dfs(graph, i, visited)\n",
    "    return lst\n",
    "            \n",
    "visited = [False]*(n+1)\n",
    "lst = []\n",
    "print(*dfs(graph, v, visited))\n",
    "\n",
    "from collections import deque\n",
    "# bfs 메서드 정의\n",
    "def bfs(graph, start, visited):\n",
    "    lst = []\n",
    "    queue = deque([start])\n",
    "    visited[start] = True # 현재 노드 방문처리\n",
    "    # 큐가 빌때까지 반복\n",
    "    while queue:\n",
    "        v = queue.popleft()\n",
    "        lst.append(v)\n",
    "        # 해당 원소와 연결된 아직 방문하지 않은 노드 queue에 넣기\n",
    "        for i in sorted(graph[v]):\n",
    "            if not visited[i]:\n",
    "                queue.append(i) \n",
    "                visited[i] = True\n",
    "    return lst\n",
    "\n",
    "visited = [False]*(n+1)\n",
    "print(*bfs(graph,v, visited))"
   ]
  },
  {
   "cell_type": "markdown",
   "metadata": {},
   "source": [
    "## 알고리즘 수업 - 깊이 우선 탐색 1\n",
    "- 문제\\\n",
    "오늘도 서준이는 깊이 우선 탐색(DFS) 수업 조교를 하고 있다. 아빠가 수업한 내용을 학생들이 잘 이해했는지 문제를 통해서 확인해보자.\\\n",
    "N개의 정점과 M개의 간선으로 구성된 무방향 그래프(undirected graph)가 주어진다. 정점 번호는 1번부터 N번이고 모든 간선의 가중치는 1이다. 정점 R에서 시작하여 깊이 우선 탐색으로 노드를 방문할 경우 노드의 방문 순서를 출력하자.\\\n",
    "깊이 우선 탐색 의사 코드는 다음과 같다. 인접 정점은 오름차순으로 방문한다.\n",
    "\n",
    "- 입력\\\n",
    "첫째 줄에 정점의 수 N (5 ≤ N ≤ 100,000), 간선의 수 M (1 ≤ M ≤ 200,000), 시작 정점 R (1 ≤ R ≤ N)이 주어진다.\\\n",
    "다음 M개 줄에 간선 정보 u v가 주어지며 정점 u와 정점 v의 가중치 1인 양방향 간선을 나타낸다. (1 ≤ u < v ≤ N, u ≠ v) 모든 간선의 (u, v) 쌍의 값은 서로 다르다.\n",
    "\n",
    "- 출력\\\n",
    "첫째 줄부터 N개의 줄에 정수를 한 개씩 출력한다. i번째 줄에는 정점 i의 방문 순서를 출력한다. 시작 정점의 방문 순서는 1이다. 시작 정점에서 방문할 수 없는 경우 0을 출력한다."
   ]
  },
  {
   "cell_type": "code",
   "execution_count": 11,
   "metadata": {},
   "outputs": [
    {
     "name": "stdout",
     "output_type": "stream",
     "text": [
      "1 2 3 4 0\n"
     ]
    }
   ],
   "source": [
    "n, m, r = map(int, input().split())\n",
    "graph = list([] for _ in range(n+1))\n",
    "for _ in range(m):\n",
    "    a, b = map(int, input().split())\n",
    "    graph[a].append(b)\n",
    "    graph[b].append(a)\n",
    "cnt = 1\n",
    "def dfs(graph, v, visited):\n",
    "    global cnt\n",
    "    visited[v] = cnt\n",
    "    graph[v].sort()\n",
    "    for i in graph[v]:\n",
    "        if visited[i] == 0:\n",
    "            cnt += 1\n",
    "            dfs(graph, i, visited)\n",
    "            \n",
    "    return visited\n",
    "\n",
    "visited = [0]*(n+1)\n",
    "\n",
    "print(*dfs(graph, r, visited)[1:])"
   ]
  },
  {
   "cell_type": "markdown",
   "metadata": {},
   "source": [
    "## 알고리즘 수업 - 깊이 우선 탐색 2\n",
    "1과 다른 점은 내림차순 정렬"
   ]
  },
  {
   "cell_type": "code",
   "execution_count": 16,
   "metadata": {},
   "outputs": [
    {
     "name": "stdout",
     "output_type": "stream",
     "text": [
      "1\n",
      "4\n",
      "3\n",
      "2\n",
      "0\n"
     ]
    }
   ],
   "source": [
    "n, m, r = map(int, input().split())\n",
    "graph = list([] for _ in range(n+1))\n",
    "for _ in range(m):\n",
    "    a, b = map(int, input().split())\n",
    "    graph[a].append(b)\n",
    "    graph[b].append(a)\n",
    "cnt = 1\n",
    "def dfs(graph, v, visited):\n",
    "    global cnt\n",
    "    visited[v] = cnt\n",
    "    graph[v].sort(reverse = True)\n",
    "    for i in graph[v]:\n",
    "        if visited[i] == 0:\n",
    "            cnt += 1\n",
    "            dfs(graph, i, visited)\n",
    "            \n",
    "    return visited\n",
    "\n",
    "visited = [0]*(n+1)\n",
    "visit = dfs(graph, r, visited)\n",
    "for i in range(1, n+1):\n",
    "    print(visit[i])\n"
   ]
  },
  {
   "cell_type": "markdown",
   "metadata": {},
   "source": [
    "## 알고리즘수업-너비우선탐색 1"
   ]
  },
  {
   "cell_type": "code",
   "execution_count": 4,
   "metadata": {},
   "outputs": [
    {
     "name": "stdout",
     "output_type": "stream",
     "text": [
      "1\n",
      "2\n",
      "4\n",
      "3\n",
      "0\n"
     ]
    }
   ],
   "source": [
    "# import sys\n",
    "# sys.setrecursionlimit(10**6)\n",
    "# input = sys.stdin.readline\n",
    "\n",
    "n, m, r = map(int, input().split())\n",
    "graph = list([] for _ in range(n+1))\n",
    "for _ in range(m):\n",
    "    a, b = map(int, input().split())\n",
    "    graph[a].append(b)\n",
    "    graph[b].append(a)\n",
    "\n",
    "from collections import deque\n",
    "\n",
    "def bfs(graph, start, visited):\n",
    "    global cnt\n",
    "    queue = deque([start])\n",
    "    visited[start] = cnt\n",
    "    # 큐가 빌 때까지 반복\n",
    "    while queue:\n",
    "        v = queue.popleft()\n",
    "        for i in sorted(graph[v]):\n",
    "            if visited[i] == 0:\n",
    "                queue.append(i)\n",
    "                cnt += 1\n",
    "                visited[i] = cnt\n",
    "    return visited\n",
    "visited = [0]*(n+1)\n",
    "\n",
    "cnt = 1\n",
    "visit = bfs(graph, r, visited)\n",
    "for i in range(1, n+1):\n",
    "    print(visit[i])"
   ]
  },
  {
   "cell_type": "markdown",
   "metadata": {},
   "source": [
    "## 알고리즘수업-너비우선탐색 2"
   ]
  },
  {
   "cell_type": "code",
   "execution_count": 5,
   "metadata": {},
   "outputs": [],
   "source": [
    "# import sys\n",
    "# sys.setrecursionlimit(10**6)\n",
    "# input = sys.stdin.readline\n",
    "\n",
    "n, m, r = map(int, input().split())\n",
    "graph = list([] for _ in range(n+1))\n",
    "for _ in range(m):\n",
    "    a, b = map(int, input().split())\n",
    "    graph[a].append(b)\n",
    "    graph[b].append(a)\n",
    "\n",
    "from collections import deque\n",
    "\n",
    "def bfs(graph, start, visited):\n",
    "    global cnt\n",
    "    queue = deque([start])\n",
    "    visited[start] = cnt\n",
    "    # 큐가 빌 때까지 반복\n",
    "    while queue:\n",
    "        v = queue.popleft()\n",
    "        for i in sorted(graph[v], reverse=True):\n",
    "            if visited[i] == 0:\n",
    "                queue.append(i)\n",
    "                cnt += 1\n",
    "                visited[i] = cnt\n",
    "    return visited\n",
    "visited = [0]*(n+1)\n",
    "\n",
    "cnt = 1\n",
    "visit = bfs(graph, r, visited)\n",
    "for i in range(1, n+1):\n",
    "    print(visit[i])"
   ]
  },
  {
   "cell_type": "markdown",
   "metadata": {},
   "source": [
    "## 헌내기는 친구가 필요해 \n",
    "- 문제\\\n",
    "2020년에 입학한 헌내기 도연이가 있다. 도연이는 비대면 수업 때문에 학교에 가지 못해 학교에 아는 친구가 없었다. 드디어 대면 수업을 하게 된 도연이는 어서 캠퍼스 내의 사람들과 친해지고 싶다. \\\n",
    "도연이가 다니는 대학의 캠퍼스는 $N \\times M$ 크기이며 캠퍼스에서 이동하는 방법은 벽이 아닌 상하좌우로 이동하는 것이다. 예를 들어, 도연이가 ($x$, $y$)에 있다면 이동할 수 있는 곳은 ($x+1$, $y$), ($x$, $y+1$), ($x-1$, $y$), ($x$, $y-1$)이다. 단, 캠퍼스의 밖으로 이동할 수는 없다.\\\n",
    "불쌍한 도연이를 위하여 캠퍼스에서 도연이가 만날 수 있는 사람의 수를 출력하는 프로그램을 작성해보자.\n",
    "\n",
    "- 입력\\\n",
    "첫째 줄에는 캠퍼스의 크기를 나타내는 두 정수 $N$ ($ 1 \\leq N \\leq 600$), $M$ ($ 1 \\leq M \\leq 600$)이 주어진다.\\\n",
    "둘째 줄부터 $N$개의 줄에는 캠퍼스의 정보들이 주어진다. O는 빈 공간, X는 벽, I는 도연이, P는 사람이다. I가 한 번만 주어짐이 보장된다.\n",
    "\n",
    "- 출력\\\n",
    "첫째 줄에 도연이가 만날 수 있는 사람의 수를 출력한다. 단, 아무도 만나지 못한 경우 TT를 출력한다."
   ]
  },
  {
   "cell_type": "code",
   "execution_count": 12,
   "metadata": {},
   "outputs": [
    {
     "name": "stdout",
     "output_type": "stream",
     "text": [
      "1\n"
     ]
    }
   ],
   "source": [
    "n, m = map(int, input().split())\n",
    "graph = [list(input()) for _ in range(n)]\n",
    "\n",
    "for i in range(n):\n",
    "    for j in range(m):\n",
    "        if graph[i][j] == 'I':\n",
    "            x = i\n",
    "            y = j\n",
    "            break\n",
    "\n",
    "\n",
    "dx = [-1,1,0,0] \n",
    "dy = [0,0,-1,1]\n",
    "cnt = 0\n",
    "def dfs(x,y):\n",
    "    global cnt\n",
    "    if x <= -1 or x >= n or y <= -1 or y >=m:\n",
    "        return cnt\n",
    "    if graph[x][y] == 'O' or graph[x][y] == 'I':\n",
    "        graph[x][y] = 'X' # 방문처리\n",
    "        dfs(x-1, y)\n",
    "        dfs(x+1, y)\n",
    "        dfs(x, y-1)\n",
    "        dfs(x, y+1)\n",
    "        return cnt\n",
    "    elif graph[x][y] == 'P' or graph[x][y] == 'I':\n",
    "        graph[x][y] = 'X' # 방문처리\n",
    "        cnt += 1\n",
    "        dfs(x-1, y)\n",
    "        dfs(x+1, y)\n",
    "        dfs(x, y-1)\n",
    "        dfs(x, y+1)\n",
    "        return cnt\n",
    "    return cnt\n",
    "\n",
    "cnt = dfs(x,y)\n",
    "\n",
    "if cnt == 0:\n",
    "    print('TT')\n",
    "else:\n",
    "    print(cnt)"
   ]
  },
  {
   "cell_type": "markdown",
   "metadata": {},
   "source": [
    "## 토마토\n",
    "- 문제\\\n",
    "철수의 토마토 농장에서는 토마토를 보관하는 큰 창고를 가지고 있다. 토마토는 아래의 그림과 같이 격자 모양 상자의 칸에 하나씩 넣어서 창고에 보관한다.\\\n",
    "창고에 보관되는 토마토들 중에는 잘 익은 것도 있지만, 아직 익지 않은 토마토들도 있을 수 있다. 보관 후 하루가 지나면, 익은 토마토들의 인접한 곳에 있는 익지 않은 토마토들은 익은 토마토의 영향을 받아 익게 된다. 하나의 토마토의 인접한 곳은 왼쪽, 오른쪽, 앞, 뒤 네 방향에 있는 토마토를 의미한다. 대각선 방향에 있는 토마토들에게는 영향을 주지 못하며, 토마토가 혼자 저절로 익는 경우는 없다고 가정한다. 철수는 창고에 보관된 토마토들이 며칠이 지나면 다 익게 되는지, 그 최소 일수를 알고 싶어 한다.\\\n",
    "토마토를 창고에 보관하는 격자모양의 상자들의 크기와 익은 토마토들과 익지 않은 토마토들의 정보가 주어졌을 때, 며칠이 지나면 토마토들이 모두 익는지, 그 최소 일수를 구하는 프로그램을 작성하라. 단, 상자의 일부 칸에는 토마토가 들어있지 않을 수도 있다.\n",
    "\n",
    "- 입력\\\n",
    "첫 줄에는 상자의 크기를 나타내는 두 정수 M,N이 주어진다. M은 상자의 가로 칸의 수, N은 상자의 세로 칸의 수를 나타낸다. 단, 2 ≤ M,N ≤ 1,000 이다. 둘째 줄부터는 하나의 상자에 저장된 토마토들의 정보가 주어진다. 즉, 둘째 줄부터 N개의 줄에는 상자에 담긴 토마토의 정보가 주어진다. 하나의 줄에는 상자 가로줄에 들어있는 토마토의 상태가 M개의 정수로 주어진다. 정수 1은 익은 토마토, 정수 0은 익지 않은 토마토, 정수 -1은 토마토가 들어있지 않은 칸을 나타낸다.\\\n",
    "토마토가 하나 이상 있는 경우만 입력으로 주어진다.\n",
    "\n",
    "- 출력\\\n",
    "여러분은 토마토가 모두 익을 때까지의 최소 날짜를 출력해야 한다. 만약, 저장될 때부터 모든 토마토가 익어있는 상태이면 0을 출력해야 하고, 토마토가 모두 익지는 못하는 상황이면 -1을 출력해야 한다."
   ]
  },
  {
   "cell_type": "code",
   "execution_count": 8,
   "metadata": {},
   "outputs": [
    {
     "name": "stdout",
     "output_type": "stream",
     "text": [
      "0\n",
      "-1\n"
     ]
    }
   ],
   "source": [
    "from collections import deque\n",
    "\n",
    "m, n = map(int, input().split())\n",
    "graph = [list(map(int, input().split())) for _ in range(n)]\n",
    "\n",
    "dx = [-1,1,0,0]\n",
    "dy = [0,0,-1,1]\n",
    "\n",
    "def bfs(queue):\n",
    "    while queue:\n",
    "        x, y = queue.popleft()\n",
    "        # 현재 위치에서 네 방향 확인\n",
    "        for i in range(4):\n",
    "            nx = x + dx[i]\n",
    "            ny = y + dy[i]\n",
    "            if nx <= -1 or nx >= n or ny <= -1 or ny >= m:\n",
    "                continue\n",
    "            if graph[nx][ny] == -1: # 토마토가 들어가있지 않으면 무시\n",
    "                continue\n",
    "            elif graph[nx][ny] == 0: # 익지 않은 토마토가 들어있다면 익히기\n",
    "                graph[nx][ny] = graph[x][y] + 1\n",
    "                result  = graph[nx][ny]\n",
    "                queue.append((nx, ny))\n",
    "    return graph\n",
    "\n",
    "cnt = 0 # 익은 토마토 개수\n",
    "cnt_1 = 0 # 익지 않은 토마토 개수\n",
    "queue = deque()\n",
    "for i in range(n):\n",
    "    for j in range(m):\n",
    "        if graph[i][j] == 1:\n",
    "            cnt += 1\n",
    "            queue.append((i, j))\n",
    "        elif graph[i][j] == -1:\n",
    "            cnt_1 += 1\n",
    "\n",
    "graph_after = bfs(queue)\n",
    "res = 0\n",
    "flag = False # 익지 않은 토마토 여부\n",
    "\n",
    "for i in graph_after:\n",
    "    for j in i:\n",
    "        # 익지 않은 토마토가 있다면\n",
    "        if j == 0:\n",
    "            flag = True\n",
    "    res = max(res, max(i))\n",
    "\n",
    "if cnt == n*m - cnt_1: # 처음부터 모든 토마토가 익어있는 상태\n",
    "    print(0)\n",
    "elif  flag == True: # 익지 않은 토마토가 있다면\n",
    "    print(-1)\n",
    "else:\n",
    "    print(res-1)"
   ]
  },
  {
   "cell_type": "markdown",
   "metadata": {},
   "source": [
    "## 트리의 부모 찾기\n",
    "- 문제\\\n",
    "루트 없는 트리가 주어진다. 이때, 트리의 루트를 1이라고 정했을 때, 각 노드의 부모를 구하는 프로그램을 작성하시오.\n",
    "\n",
    "- 입력\\\n",
    "첫째 줄에 노드의 개수 N (2 ≤ N ≤ 100,000)이 주어진다. 둘째 줄부터 N-1개의 줄에 트리 상에서 연결된 두 정점이 주어진다.\n",
    "\n",
    "- 출력\\\n",
    "첫째 줄부터 N-1개의 줄에 각 노드의 부모 노드 번호를 2번 노드부터 순서대로 출력한다."
   ]
  },
  {
   "cell_type": "code",
   "execution_count": 4,
   "metadata": {},
   "outputs": [],
   "source": [
    "n = int(input())\n",
    "graph = list([] for _ in range(n+1))\n",
    "for i in range(n-1):\n",
    "    a,b = map(int, input().split())\n",
    "    graph[a].append(b)\n",
    "    graph[b].append(a)\n"
   ]
  },
  {
   "cell_type": "code",
   "execution_count": 8,
   "metadata": {},
   "outputs": [
    {
     "name": "stdout",
     "output_type": "stream",
     "text": [
      "4\n",
      "6\n",
      "1\n",
      "3\n",
      "1\n",
      "4\n"
     ]
    }
   ],
   "source": [
    "def dfs(graph, v, visited):\n",
    "    for i in graph[v]:\n",
    "        if not visited[i]:\n",
    "            visited[i] = v\n",
    "            dfs(graph, i, visited)\n",
    "    return visited\n",
    "visited = [0]*(n+1)\n",
    "visit = dfs(graph, 1, visited)\n",
    "for i in range(2, n+1):\n",
    "    print(visit[i])"
   ]
  }
 ],
 "metadata": {
  "kernelspec": {
   "display_name": "venv",
   "language": "python",
   "name": "python3"
  },
  "language_info": {
   "codemirror_mode": {
    "name": "ipython",
    "version": 3
   },
   "file_extension": ".py",
   "mimetype": "text/x-python",
   "name": "python",
   "nbconvert_exporter": "python",
   "pygments_lexer": "ipython3",
   "version": "3.8.15"
  }
 },
 "nbformat": 4,
 "nbformat_minor": 2
}
