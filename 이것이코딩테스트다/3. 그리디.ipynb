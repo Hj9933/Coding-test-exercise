{
 "cells": [
  {
   "cell_type": "markdown",
   "metadata": {},
   "source": [
    "### 예제 3-1. 거스름돈\n",
    "거스름돈으로 사용할 500원, 100원, 50원, 10원짜리 동전 무한히 존재\n",
    "손님에게 거슬러줘야할 돈이 N원 일때, 거슬러줘야 할 동전의 최소 개수 구하기\n",
    "- 그리디 알고리즘으로 풀 수 있는 대표적 문제\\\n",
    "! 아이디어 !\n",
    "'가장 큰 화폐 단위부터'\n",
    "- 그리디 알고리즘으로 해결할 수 있는 이유: 가지고 있는 동전 중에서 큰 단위가 항상 작은 단위의 배수이므로 작은 단위의 동전들을 종합해 다른 해가 나올 수 없기 때문"
   ]
  },
  {
   "cell_type": "code",
   "execution_count": 2,
   "metadata": {},
   "outputs": [
    {
     "name": "stdout",
     "output_type": "stream",
     "text": [
      "6\n"
     ]
    }
   ],
   "source": [
    "n = 1260\n",
    "count = 0\n",
    "\n",
    "# 큰 화폐 단위부터\n",
    "coin_type = [500, 100, 50, 10]\n",
    "\n",
    "for coin in coin_type:\n",
    "    count += n//coin # 해당 화폐로 거슬러 줄 수 있는 동전의 개수 세기\n",
    "    n = n%coin\n",
    "\n",
    "print(count) \n",
    "# 시간복잡도 O(K) ; K:화폐타입 개수"
   ]
  },
  {
   "cell_type": "markdown",
   "metadata": {},
   "source": [
    "# 그리디 알고리즘\n",
    "- 탐욕적으로 문제에 접근했을 때 정확한 답을 찾을 수 있다는 보장이 있을 때는 매우 효과적이고 직관적"
   ]
  },
  {
   "cell_type": "markdown",
   "metadata": {},
   "source": [
    "# 실전연습\n",
    "## 큰 수의 법칙\n",
    "다양한 수로 이루어진 배열이 있을 때 주어진 수들을 M번 더하여 가장 큰 수를 만드는 법칙. 단, 배열의 특정한 인덱스(번호)에 해당하는 수가 연속해서 K번을 초과하여 더해질 수 없는 것이 이 법칙의 특징"
   ]
  },
  {
   "cell_type": "code",
   "execution_count": 13,
   "metadata": {},
   "outputs": [],
   "source": [
    "n, m, k = map(int, input().split())\n",
    "lst = list(map(int, input().split()))"
   ]
  },
  {
   "cell_type": "code",
   "execution_count": 7,
   "metadata": {},
   "outputs": [
    {
     "name": "stdout",
     "output_type": "stream",
     "text": [
      "28\n"
     ]
    }
   ],
   "source": [
    "# 내 풀이\n",
    "\n",
    "# 수들을 내림차순으로 나열\n",
    "lst.sort(reverse=True)\n",
    "\n",
    "# 제일 큰 수를 (m을 k로 나눈 몫*k)만큼 곱하고 그 다음 큰 수를 (m을 k로 나눈 나머지)만큼 곱\n",
    "print(lst[0] * k * (m//k) + lst[1] * (m % k)) # -> m이 k로 나누어떨어지면 가장 큰수만 더하게 되므로 틀림\n"
   ]
  },
  {
   "cell_type": "code",
   "execution_count": 9,
   "metadata": {},
   "outputs": [
    {
     "name": "stdout",
     "output_type": "stream",
     "text": [
      "46\n"
     ]
    }
   ],
   "source": [
    "# 책 풀이\n",
    "# 입력값 중 가장 큰 수와 두번째로 큰 수만 저장하면 됨. 가장 큰 수를 K번 더하고 두 번째로 큰 수를 한 번 더하는 연산 반복\n",
    "\n",
    "# 입력받은 수 정렬\n",
    "lst.sort()\n",
    "first = lst[n-1] # 가장 큰 수 \n",
    "second = lst[n-2] # 두번째로 큰 수\n",
    "\n",
    "result = 0\n",
    "\n",
    "while True:\n",
    "    for i in range(k): # 가장 큰 수를 k번 더하기\n",
    "        if m == 0: # m이 0이라면 반복문 탈출\n",
    "            break\n",
    "        result += first\n",
    "        m -= 1\n",
    "    if m == 0:\n",
    "        break\n",
    "    result += second # 두 번째로 큰 수를 한 번 더하기\n",
    "    m -= 1\n",
    "\n",
    "print(result)"
   ]
  },
  {
   "cell_type": "code",
   "execution_count": 14,
   "metadata": {},
   "outputs": [
    {
     "name": "stdout",
     "output_type": "stream",
     "text": [
      "46\n"
     ]
    }
   ],
   "source": [
    "# 반복되는 수열의 길이는 (k+1)\n",
    "# M을 (k+1)로 나눈 몫이 수열이 반복되는 횟수, 여기에 k를 곱해주면 가장 큰 수가 등장하는 횟수\n",
    "# M이 (k+1)로 나누어떨어지지 않는 경우, M을 (k+1)로 나눈 나머지만큼 가장 큰 수가 추가로 더해지므로 이를 고려\n",
    "# 가장 큰 수가 더해지는 횟수: int(M/(K+1))*K + M%(K+1)\n",
    "\n",
    "lst. sort()\n",
    "first = lst[n-1]\n",
    "second = lst[n-2]\n",
    "\n",
    "# 가장 큰 수가 더해지는 횟수 계산\n",
    "count = int(m/(k+1)) * k\n",
    "count += m%(k+1)\n",
    "\n",
    "result = 0\n",
    "result += (count)*first # 가장 큰 수 더하기\n",
    "result += (m-count)*second # 두번째로 큰 수 더하기\n",
    "\n",
    "print(result)"
   ]
  },
  {
   "cell_type": "markdown",
   "metadata": {},
   "source": [
    "## 숫자카드게임: 가장 높은 숫자 카드 한장 뽑기\n",
    "1. 숫자가 쓰인 카드들이 NxM 형태로 놓여있다. \n",
    "2. 먼저 뽑고자 하는 카드가 포함되어 있는 행 선택\n",
    "3. 그다음 선택된 행에 포함된 카드들 중 가장 숫자가 낮은 카드를 뽑아야 함\n",
    "4. 따라서 처음에 카드를 골라낼 행을 선택할 때, 이후에 해당 행에서 가장 숫자가 낮은 카드를 뽑을 것을 고려하여 최종적으로 가장 높은 숫자의 카드를 뽑을 수 있도록 전략을 세워야 함"
   ]
  },
  {
   "cell_type": "code",
   "execution_count": 22,
   "metadata": {},
   "outputs": [],
   "source": [
    "n, m = map(int, input().split())\n",
    "lst = [list(map(int, input().split())) for _ in range(n)]"
   ]
  },
  {
   "cell_type": "code",
   "execution_count": 23,
   "metadata": {},
   "outputs": [
    {
     "data": {
      "text/plain": [
       "[[7, 3, 1, 8], [3, 3, 3, 4]]"
      ]
     },
     "execution_count": 23,
     "metadata": {},
     "output_type": "execute_result"
    }
   ],
   "source": [
    "lst"
   ]
  },
  {
   "cell_type": "code",
   "execution_count": 24,
   "metadata": {},
   "outputs": [
    {
     "name": "stdout",
     "output_type": "stream",
     "text": [
      "3\n"
     ]
    }
   ],
   "source": [
    "# 내풀이: 각 행에서 최소값을 저장한 후, 그 중 최대값을 출력\n",
    "min_lst = []\n",
    "for i in range(n):\n",
    "    min_lst.append(min(lst[i]))\n",
    "\n",
    "print(max(min_lst))"
   ]
  },
  {
   "cell_type": "markdown",
   "metadata": {},
   "source": [
    "## 1이 될 때까지\n",
    "어떠한 수 N이 1이 될 때까지 다음의 두 과정 중 하나를 반복적으로 선택하여 수행하려고 한다. 단, 두 번째 연산은 N이 K로 나누어 떨어질 때만 선택할 수 있다.\n",
    "1. N에서 1을 뺀다\n",
    "2. N을 K로 나눈다\\\n",
    "N이 1이 될 때까지 1번 혹은 2번의 과정을 수행해야 하는 최소 횟수를 구하는 프로그램을 작성하시오"
   ]
  },
  {
   "cell_type": "code",
   "execution_count": 30,
   "metadata": {},
   "outputs": [],
   "source": [
    "n, k = map(int, input().split())"
   ]
  },
  {
   "cell_type": "code",
   "execution_count": 27,
   "metadata": {},
   "outputs": [
    {
     "name": "stdout",
     "output_type": "stream",
     "text": [
      "2\n"
     ]
    }
   ],
   "source": [
    "# 내풀이: n을 k로 나누었을 때 나머지가 0이면 2번과정, 0이 아니면 1번 과정\n",
    "count = 0\n",
    "\n",
    "while n != 1:\n",
    "    if n%k == 0:\n",
    "        n = n/k\n",
    "        count += 1\n",
    "    else:\n",
    "        n -= 1\n",
    "        count += 1\n",
    "\n",
    "print(count)"
   ]
  },
  {
   "cell_type": "code",
   "execution_count": 31,
   "metadata": {},
   "outputs": [
    {
     "name": "stdout",
     "output_type": "stream",
     "text": [
      "2\n"
     ]
    }
   ],
   "source": [
    "# 책 풀이\n",
    "count = 0\n",
    "\n",
    "while n >= k: # n이 k 이상이라면 계속 나누기\n",
    "    # n이 k로 나누어 떨어지지 않는다면 n에서 1씩 빼기\n",
    "    while n%k != 0:\n",
    "        n -= 1\n",
    "        count += 1\n",
    "    # k로 나누기\n",
    "    n //= k\n",
    "    count += 1\n",
    "\n",
    "# 마지막으로 남은 수에 대하여 1씩 빼기\n",
    "while n > 1:\n",
    "    n -= 1\n",
    "    count += 1\n",
    "\n",
    "print(count)"
   ]
  },
  {
   "cell_type": "markdown",
   "metadata": {},
   "source": [
    "# 백준\n",
    "## 동전 0\n",
    "- 문제\\\n",
    "준규가 가지고 있는 동전은 총 N종류이고, 각각의 동전을 매우 많이 가지고 있다.동전을 적절히 사용해서 그 가치의 합을 K로 만들려고 한다. 이때 필요한 동전 개수의 최솟값을 구하는 프로그램을 작성하시오.\n",
    "- 입력\\\n",
    "첫째 줄에 N과 K가 주어진다. (1 ≤ N ≤ 10, 1 ≤ K ≤ 100,000,000)\\\n",
    "둘째 줄부터 N개의 줄에 동전의 가치 Ai가 오름차순으로 주어진다. (1 ≤ Ai ≤ 1,000,000, A1 = 1, i ≥ 2인 경우에 Ai는 Ai-1의 배수)\n",
    "- 출력\\\n",
    "첫째 줄에 K원을 만드는데 필요한 동전 개수의 최솟값을 출력한다."
   ]
  },
  {
   "cell_type": "code",
   "execution_count": 38,
   "metadata": {},
   "outputs": [],
   "source": [
    "n, k = map(int, input().split())\n",
    "lst = list(int(input()) for _ in range(n))"
   ]
  },
  {
   "cell_type": "code",
   "execution_count": 39,
   "metadata": {},
   "outputs": [
    {
     "name": "stdout",
     "output_type": "stream",
     "text": [
      "12\n"
     ]
    }
   ],
   "source": [
    "result = 0\n",
    "for i in reversed(lst): # 동전 가치 큰 것부터\n",
    "    if k // i != 0: # k보다 큰 동전가치는 패스, k를 i로 나누었을 때 몫이 1보다 크면 결과값에 몫을 더하고 k는 k를 i로 나눈 나머지로 재정의\n",
    "        result += k//i\n",
    "        k = k%i\n",
    "        if k == 0: # k가 0이 되면 반복문 멈추기\n",
    "            break\n",
    "print(result)"
   ]
  },
  {
   "cell_type": "markdown",
   "metadata": {},
   "source": [
    "## 회의실 배정\n",
    "- 문제\\\n",
    "한 개의 회의실이 있는데 이를 사용하고자 하는 N개의 회의에 대하여 회의실 사용표를 만들려고 한다. 각 회의 I에 대해 시작시간과 끝나는 시간이 주어져 있고, 각 회의가 겹치지 않게 하면서 회의실을 사용할 수 있는 회의의 최대 개수를 찾아보자. 단, 회의는 한번 시작하면 중간에 중단될 수 없으며 한 회의가 끝나는 것과 동시에 다음 회의가 시작될 수 있다. 회의의 시작시간과 끝나는 시간이 같을 수도 있다. 이 경우에는 시작하자마자 끝나는 것으로 생각하면 된다.\n",
    "- 입력\\\n",
    "첫째 줄에 회의의 수 N(1 ≤ N ≤ 100,000)이 주어진다. 둘째 줄부터 N+1 줄까지 각 회의의 정보가 주어지는데 이것은 공백을 사이에 두고 회의의 시작시간과 끝나는 시간이 주어진다. 시작 시간과 끝나는 시간은 231-1보다 작거나 같은 자연수 또는 0이다.\n",
    "- 출력\\\n",
    "첫째 줄에 최대 사용할 수 있는 회의의 최대 개수를 출력한다."
   ]
  },
  {
   "cell_type": "code",
   "execution_count": 8,
   "metadata": {},
   "outputs": [],
   "source": [
    "n = int(input())\n",
    "lst = [list(map(int, input().split())) for _ in range(n)]"
   ]
  },
  {
   "cell_type": "code",
   "execution_count": 9,
   "metadata": {},
   "outputs": [
    {
     "name": "stdout",
     "output_type": "stream",
     "text": [
      "[[1, 4], [3, 5], [0, 6], [5, 7], [3, 8], [5, 9], [6, 10], [8, 11], [8, 12], [2, 13], [12, 14]]\n"
     ]
    }
   ],
   "source": [
    "lst.sort(key = lambda x: (x[1], x[0])) # 끝나는 시간 기준 정렬 후, 시작 시간 기준 정렬\n",
    "print(lst)"
   ]
  },
  {
   "cell_type": "code",
   "execution_count": 31,
   "metadata": {},
   "outputs": [
    {
     "name": "stdout",
     "output_type": "stream",
     "text": [
      "4\n"
     ]
    }
   ],
   "source": [
    "count = 1 # 맨 첫 원소는 무조건 포함\n",
    "i = 0\n",
    "while i < n-1:\n",
    "    j = i + 1 # 인덱스 저장\n",
    "    while True: # 끝 시간과 시작시간이 겹치지 않을 때까지 i에 1 더해서 인덱스 뒤로 보내기\n",
    "        if lst[i][1] > lst[j][0]: # 끝 시간이 시작시간보다 크면 겹치는 것이므로 i에 1더하기\n",
    "            j += 1\n",
    "            if j > n-1:\n",
    "                break\n",
    "        else: # 끝 시간이 시작시간보다 같거나 작으면 겹치지 않는 것이므로 count에 1 더하고 j에 1더함\n",
    "            count += 1\n",
    "            break\n",
    "    i = j    \n",
    "print(count)"
   ]
  },
  {
   "cell_type": "markdown",
   "metadata": {},
   "source": [
    "## ATM\n",
    "- 문제\\\n",
    "인하은행에는 ATM이 1대밖에 없다. 지금 이 ATM앞에 N명의 사람들이 줄을 서있다. 사람은 1번부터 N번까지 번호가 매겨져 있으며, i번 사람이 돈을 인출하는데 걸리는 시간은 Pi분이다. 사람들이 줄을 서는 순서에 따라서, 돈을 인출하는데 필요한 시간의 합이 달라지게 된다. 예를 들어, 총 5명이 있고, P1 = 3, P2 = 1, P3 = 4, P4 = 3, P5 = 2 인 경우를 생각해보자. [1, 2, 3, 4, 5] 순서로 줄을 선다면, 1번 사람은 3분만에 돈을 뽑을 수 있다. 2번 사람은 1번 사람이 돈을 뽑을 때 까지 기다려야 하기 때문에, 3+1 = 4분이 걸리게 된다. 3번 사람은 1번, 2번 사람이 돈을 뽑을 때까지 기다려야 하기 때문에, 총 3+1+4 = 8분이 필요하게 된다. 4번 사람은 3+1+4+3 = 11분, 5번 사람은 3+1+4+3+2 = 13분이 걸리게 된다. 이 경우에 각 사람이 돈을 인출하는데 필요한 시간의 합은 3+4+8+11+13 = 39분이 된다. 줄을 [2, 5, 1, 4, 3] 순서로 줄을 서면, 2번 사람은 1분만에, 5번 사람은 1+2 = 3분, 1번 사람은 1+2+3 = 6분, 4번 사람은 1+2+3+3 = 9분, 3번 사람은 1+2+3+3+4 = 13분이 걸리게 된다. 각 사람이 돈을 인출하는데 필요한 시간의 합은 1+3+6+9+13 = 32분이다. 이 방법보다 더 필요한 시간의 합을 최소로 만들 수는 없다. 줄을 서 있는 사람의 수 N과 각 사람이 돈을 인출하는데 걸리는 시간 Pi가 주어졌을 때, 각 사람이 돈을 인출하는데 필요한 시간의 합의 최솟값을 구하는 프로그램을 작성하시오.\n",
    "- 입력\\\n",
    "첫째 줄에 사람의 수 N(1 ≤ N ≤ 1,000)이 주어진다. 둘째 줄에는 각 사람이 돈을 인출하는데 걸리는 시간 Pi가 주어진다. (1 ≤ Pi ≤ 1,000)\n",
    "- 출력\\\n",
    "첫째 줄에 각 사람이 돈을 인출하는데 필요한 시간의 합의 최솟값을 출력한다.\n"
   ]
  },
  {
   "cell_type": "code",
   "execution_count": 1,
   "metadata": {},
   "outputs": [],
   "source": [
    "n = int(input())\n",
    "lst = list(map(int, input().split()))"
   ]
  },
  {
   "cell_type": "code",
   "execution_count": 2,
   "metadata": {},
   "outputs": [
    {
     "name": "stdout",
     "output_type": "stream",
     "text": [
      "32\n"
     ]
    }
   ],
   "source": [
    "lst.sort() # 수 오름차순 정렬\n",
    "count = 0\n",
    "for i in range(n):\n",
    "    count += sum(lst[0:i+1]) # i번째까지 더한 것을 count에 더해주기\n",
    "print(count)"
   ]
  },
  {
   "cell_type": "markdown",
   "metadata": {},
   "source": [
    "## 잃어버린 괄호\n",
    "- 문제\\\n",
    "세준이는 양수와 +, -, 그리고 괄호를 가지고 식을 만들었다. 그리고 나서 세준이는 괄호를 모두 지웠다.\\\n",
    "그리고 나서 세준이는 괄호를 적절히 쳐서 이 식의 값을 최소로 만들려고 한다.\\\n",
    "괄호를 적절히 쳐서 이 식의 값을 최소로 만드는 프로그램을 작성하시오.\n",
    "- 입력\\\n",
    "첫째 줄에 식이 주어진다. 식은 ‘0’~‘9’, ‘+’, 그리고 ‘-’만으로 이루어져 있고, 가장 처음과 마지막 문자는 숫자이다. 그리고 연속해서 두 개 이상의 연산자가 나타나지 않고, 5자리보다 많이 연속되는 숫자는 없다. 수는 0으로 시작할 수 있다. 입력으로 주어지는 식의 길이는 50보다 작거나 같다.\n",
    "- 출력\\\n",
    "첫째 줄에 정답을 출력한다."
   ]
  },
  {
   "cell_type": "code",
   "execution_count": 13,
   "metadata": {},
   "outputs": [],
   "source": [
    "formula = input()"
   ]
  },
  {
   "cell_type": "code",
   "execution_count": 14,
   "metadata": {},
   "outputs": [
    {
     "name": "stdout",
     "output_type": "stream",
     "text": [
      "0\n"
     ]
    }
   ],
   "source": [
    "# 식에 -와 +가 섞여있다면, +로 연결된 식에 무조건 괄호\n",
    "formula = formula.split('-') # 먼저 -로 스플릿\n",
    "formula1 = [] # 정수 저장 위해 빈 리스트\n",
    "for i in formula:\n",
    "    if '+' in i: # i 안에 +가 있다면 i를 +로 스플릿하고 스플릿된 수들을 더해서 formula1에 저장\n",
    "        s = list(map(int,i.split('+')))\n",
    "        formula1.append(sum(s))\n",
    "    else:\n",
    "        formula1.append(int(i)) # i 안에 +가 없다면, i를 정수로 바꿔 formula1에 저장\n",
    "result = int(formula1.pop(0)) # formula1의 첫번째 수를 result로 저장하고 formula1에서 빼버리기\n",
    "for i in formula1: # formula1 내의 수들을 result에서 빼기\n",
    "    result -= i\n",
    "print(result)"
   ]
  },
  {
   "cell_type": "markdown",
   "metadata": {},
   "source": [
    "## 주유소\n",
    "- 문제\\\n",
    "어떤 나라에 N개의 도시가 있다. 이 도시들은 일직선 도로 위에 있다. 편의상 일직선을 수평 방향으로 두자. 제일 왼쪽의 도시에서 제일 오른쪽의 도시로 자동차를 이용하여 이동하려고 한다. 인접한 두 도시 사이의 도로들은 서로 길이가 다를 수 있다. 도로 길이의 단위는 km를 사용한다.\\\n",
    "처음 출발할 때 자동차에는 기름이 없어서 주유소에서 기름을 넣고 출발하여야 한다. 기름통의 크기는 무제한이어서 얼마든지 많은 기름을 넣을 수 있다. 도로를 이용하여 이동할 때 1km마다 1리터의 기름을 사용한다. 각 도시에는 단 하나의 주유소가 있으며, 도시 마다 주유소의 리터당 가격은 다를 수 있다. 가격의 단위는 원을 사용한다.\\\n",
    "예를 들어, 이 나라에 다음 그림처럼 4개의 도시가 있다고 하자. 원 안에 있는 숫자는 그 도시에 있는 주유소의 리터당 가격이다. 도로 위에 있는 숫자는 도로의 길이를 표시한 것이다. \\\n",
    "제일 왼쪽 도시에서 6리터의 기름을 넣고, 더 이상의 주유 없이 제일 오른쪽 도시까지 이동하면 총 비용은 30원이다. 만약 제일 왼쪽 도시에서 2리터의 기름을 넣고(2×5 = 10원) 다음 번 도시까지 이동한 후 3리터의 기름을 넣고(3×2 = 6원) 다음 도시에서 1리터의 기름을 넣어(1×4 = 4원) 제일 오른쪽 도시로 이동하면, 총 비용은 20원이다. 또 다른 방법으로 제일 왼쪽 도시에서 2리터의 기름을 넣고(2×5 = 10원) 다음 번 도시까지 이동한 후 4리터의 기름을 넣고(4×2 = 8원) 제일 오른쪽 도시까지 이동하면, 총 비용은 18원이다.\\\n",
    "각 도시에 있는 주유소의 기름 가격과, 각 도시를 연결하는 도로의 길이를 입력으로 받아 제일 왼쪽 도시에서 제일 오른쪽 도시로 이동하는 최소의 비용을 계산하는 프로그램을 작성하시오.\\\n",
    "- 입력\n",
    "표준 입력으로 다음 정보가 주어진다. 첫 번째 줄에는 도시의 개수를 나타내는 정수 N(2 ≤ N ≤ 100,000)이 주어진다. 다음 줄에는 인접한 두 도시를 연결하는 도로의 길이가 제일 왼쪽 도로부터 N-1개의 자연수로 주어진다. 다음 줄에는 주유소의 리터당 가격이 제일 왼쪽 도시부터 순서대로 N개의 자연수로 주어진다. 제일 왼쪽 도시부터 제일 오른쪽 도시까지의 거리는 1이상 1,000,000,000 이하의 자연수이다. 리터당 가격은 1 이상 1,000,000,000 이하의 자연수이다. \n",
    "- 출력\n",
    "표준 출력으로 제일 왼쪽 도시에서 제일 오른쪽 도시로 가는 최소 비용을 출력한다. "
   ]
  },
  {
   "cell_type": "code",
   "execution_count": 5,
   "metadata": {},
   "outputs": [],
   "source": [
    "n = int(input())\n",
    "dist = list(map(int, input().split()))\n",
    "p = list(map(int, input().split()))"
   ]
  },
  {
   "cell_type": "code",
   "execution_count": 23,
   "metadata": {},
   "outputs": [
    {
     "name": "stdout",
     "output_type": "stream",
     "text": [
      "10\n"
     ]
    }
   ],
   "source": [
    "price = 0 # price 변수 생성\n",
    "i = 0\n",
    "while i < n:\n",
    "    d = 0\n",
    "    if p[i] == min(p[i:n-1]): # i번째부터 끝까지 중 최저 가격이라면 남은 거리만큼 모두 주유하고 반복문 마침\n",
    "        price += sum(dist[i:])*p[i]\n",
    "        break\n",
    "    elif p[i] > p[i+1]: # 최저 가격이 아니고 다음 도시의 주유비보다 현재 도시의 주유비가 비싸다면 가야하는 거리만큼만 주유\n",
    "        price += dist[i]*p[i]\n",
    "        i += 1\n",
    "    else: # 최저 가격이 아니고 다음 도시의 주유비보다 현재 도시의 주유비가 더 싸거나 같다면 \n",
    "        j = i # 현재 i를 j에 저장\n",
    "        while p[i] <= p[j+1]: # 현재 가격이 그 이후 도시 가격보다 작을 동안 계속 반복\n",
    "            d += dist[j] # 다음 도시의 거리를 d에 합\n",
    "            j += 1 # 그 다음 도시 가격 보기 위해 j+1\n",
    "        price += d*p[i] # d거리만큼 주유\n",
    "        i = j # j번째 도시까지 주유 했으므로 i=j\n",
    "print(price)\n",
    "# 17점 부분성공: 최저가격을 설정할 때, 순서가 넘어가면 이전 가격을 고려하지 않음"
   ]
  },
  {
   "cell_type": "code",
   "execution_count": 6,
   "metadata": {},
   "outputs": [
    {
     "name": "stdout",
     "output_type": "stream",
     "text": [
      "10\n"
     ]
    }
   ],
   "source": [
    "min_p = p[0]\n",
    "price = p[0] * dist[0]\n",
    "\n",
    "for i in range(1, n-1):\n",
    "    if min_p < p[i]: # 현재 min 가격이 현재 위치의 가격보다 작으면 현재 min가격으로 주유\n",
    "        price += min_p * dist[i]\n",
    "    else: # 현재 min 가격이 현재 위치의 가격보다 크거나 같으면 현재 위치 가격을 min으로 설정하고 min가격으로 주유\n",
    "        min_p = p[i]\n",
    "        price += min_p * dist[i]\n",
    "print(price)\n",
    "# 100점"
   ]
  }
 ],
 "metadata": {
  "kernelspec": {
   "display_name": "venv",
   "language": "python",
   "name": "python3"
  },
  "language_info": {
   "codemirror_mode": {
    "name": "ipython",
    "version": 3
   },
   "file_extension": ".py",
   "mimetype": "text/x-python",
   "name": "python",
   "nbconvert_exporter": "python",
   "pygments_lexer": "ipython3",
   "version": "3.8.15"
  }
 },
 "nbformat": 4,
 "nbformat_minor": 2
}
